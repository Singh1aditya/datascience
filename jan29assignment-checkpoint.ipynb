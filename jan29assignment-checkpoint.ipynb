{
 "cells": [
  {
   "cell_type": "markdown",
   "id": "ebd0e58c",
   "metadata": {},
   "source": []
  },
  {
   "cell_type": "markdown",
   "id": "b06b196f",
   "metadata": {},
   "source": [
    "# Q1\n",
    "It was designed by Guido van Rossum and developed by Python Software Foundation"
   ]
  },
  {
   "cell_type": "markdown",
   "id": "a6238ba6",
   "metadata": {},
   "source": [
    "# Q2\n",
    "interpreted programming language, which supports object-oriented, structured, and functional programming.\n"
   ]
  },
  {
   "cell_type": "markdown",
   "id": "db9ccffa",
   "metadata": {},
   "source": [
    "# Q3\n",
    "Yes \n"
   ]
  },
  {
   "cell_type": "markdown",
   "id": "51394825",
   "metadata": {},
   "source": [
    "# Q4\n",
    "The correct extension is .py"
   ]
  },
  {
   "cell_type": "markdown",
   "id": "7282669f",
   "metadata": {},
   "source": [
    "# Q5 \n",
    "the codes are first compiled and then Interpreted"
   ]
  },
  {
   "cell_type": "markdown",
   "id": "fd6822d5",
   "metadata": {},
   "source": [
    "# Q6\n",
    "\n",
    "Indentation is used to define block"
   ]
  },
  {
   "cell_type": "markdown",
   "id": "082765ca",
   "metadata": {},
   "source": [
    "# Q7 \n",
    "\n",
    "(#) is used to define a single comment"
   ]
  },
  {
   "cell_type": "code",
   "execution_count": 6,
   "id": "b8d7f36b",
   "metadata": {},
   "outputs": [
    {
     "name": "stdout",
     "output_type": "stream",
     "text": [
      "3.9.13 (main, Aug 25 2022, 23:51:50) [MSC v.1916 64 bit (AMD64)]\n"
     ]
    }
   ],
   "source": [
    "# Q8\n",
    "import sys\n",
    "print (sys.version)\n",
    "\n",
    "#can be used to find the current version"
   ]
  },
  {
   "cell_type": "markdown",
   "id": "7427d571",
   "metadata": {},
   "source": [
    "# Q9\n",
    "\n",
    "lambda"
   ]
  },
  {
   "cell_type": "markdown",
   "id": "53e1594f",
   "metadata": {},
   "source": [
    "# Q10\n",
    "\n",
    "PIP is a package manager for Python packages"
   ]
  },
  {
   "cell_type": "markdown",
   "id": "4a44e2f4",
   "metadata": {},
   "source": [
    "# Q 11\n",
    "max\n",
    "min\n",
    "all\n",
    "ascii\n",
    "\n"
   ]
  },
  {
   "cell_type": "markdown",
   "id": "414415ca",
   "metadata": {},
   "source": [
    "# Q 12\n",
    "79 characters"
   ]
  },
  {
   "cell_type": "markdown",
   "id": "4e54fac3",
   "metadata": {},
   "source": [
    "# Q13\n",
    " developing websites and software, task automation, data analysis, and data visualization\n",
    "    \n",
    "    its easy to learn"
   ]
  },
  {
   "cell_type": "markdown",
   "id": "f4cd5e0c",
   "metadata": {},
   "source": [
    "# Q14\n",
    "python does the allocation and the deallocation of memory automatically and does the garbage collection automatically"
   ]
  },
  {
   "cell_type": "markdown",
   "id": "475686fd",
   "metadata": {},
   "source": [
    "# Q15\n",
    "\n",
    "visit the python webpage and download the recent version \n",
    "then open the properties tab of this pc\n",
    "in the advanced options there will be a option of setting path variable \n",
    "paste the variable"
   ]
  },
  {
   "cell_type": "markdown",
   "id": "72863c9c",
   "metadata": {},
   "source": [
    "# Q16\n",
    "the indentation acts like a block of code while getting executed\n",
    "\n"
   ]
  },
  {
   "cell_type": "code",
   "execution_count": null,
   "id": "a50001b9",
   "metadata": {},
   "outputs": [],
   "source": []
  }
 ],
 "metadata": {
  "kernelspec": {
   "display_name": "Python 3 (ipykernel)",
   "language": "python",
   "name": "python3"
  },
  "language_info": {
   "codemirror_mode": {
    "name": "ipython",
    "version": 3
   },
   "file_extension": ".py",
   "mimetype": "text/x-python",
   "name": "python",
   "nbconvert_exporter": "python",
   "pygments_lexer": "ipython3",
   "version": "3.9.13"
  }
 },
 "nbformat": 4,
 "nbformat_minor": 5
}
